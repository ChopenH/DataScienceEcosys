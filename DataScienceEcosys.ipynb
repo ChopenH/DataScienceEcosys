{
 "cells": [
  {
   "cell_type": "markdown",
   "id": "ff43cf8e",
   "metadata": {},
   "source": [
    "## Mon Projet Final"
   ]
  },
  {
   "cell_type": "markdown",
   "id": "34e45309",
   "metadata": {},
   "source": [
    "## Introduction\n",
    "Bienvenue dans mon projet final ! Ce notebook présente divers outils et concepts en science des données.\n",
    "\n"
   ]
  },
  {
   "cell_type": "markdown",
   "id": "24f775ba",
   "metadata": {},
   "source": [
    "\n",
    "## Langages de la Science des Données\n",
    "- Python\n",
    "- R\n",
    "- Julia\n",
    "- ...\n",
    "\n"
   ]
  },
  {
   "cell_type": "markdown",
   "id": "d88c5ef6",
   "metadata": {},
   "source": [
    "## Bibliothèques de la Science des Données\n",
    "- Pandas\n",
    "- NumPy\n",
    "- Matplotlib\n",
    "- Seaborn\n",
    "- ...\n",
    "\n"
   ]
  },
  {
   "cell_type": "markdown",
   "id": "38527b18",
   "metadata": {},
   "source": [
    "\n",
    "## Outils de la Science des Données\n",
    "\n",
    "| Outil          | Description                                      |\n",
    "|----------------|--------------------------------------------------|\n",
    "| Jupyter Notebook | Environnement interactif pour le code et la documentation. |\n",
    "| TensorFlow     | Bibliothèque d'apprentissage automatique.              |\n",
    "| scikit-learn   | Bibliothèque d'apprentissage automatique.              |\n",
    "| Tableau        | Outil de visualisation de données.                    |\n",
    "| ...\n",
    "\n"
   ]
  },
  {
   "cell_type": "markdown",
   "id": "7dd17aac",
   "metadata": {},
   "source": [
    "\n",
    "## Exemples d'Expressions Arithmétiques\n",
    "Nous allons maintenant explorer des exemples d'expressions arithmétiques à l'aide de cellules de code.\n",
    "\n"
   ]
  },
  {
   "cell_type": "code",
   "execution_count": 6,
   "id": "70b8fa06",
   "metadata": {},
   "outputs": [
    {
     "name": "stdout",
     "output_type": "stream",
     "text": [
      "Résultat de la multiplication : 50\n",
      "Résultat de l'addition : 15\n"
     ]
    }
   ],
   "source": [
    "\n",
    "# Multiplier et additionner des nombres\n",
    "a = 5\n",
    "b = 10\n",
    "multiplication = a * b\n",
    "addition = a + b\n",
    "print(\"Résultat de la multiplication :\", multiplication)\n",
    "print(\"Résultat de l'addition :\", addition)\n"
   ]
  },
  {
   "cell_type": "code",
   "execution_count": 7,
   "id": "a5751f6a",
   "metadata": {},
   "outputs": [
    {
     "name": "stdout",
     "output_type": "stream",
     "text": [
      "120 minutes équivalent à 2.0 heures\n"
     ]
    }
   ],
   "source": [
    "\n",
    "# Convertir des minutes en heures\n",
    "minutes = 120\n",
    "heures = minutes / 60\n",
    "print(minutes, \"minutes équivalent à\", heures, \"heures\")\n"
   ]
  },
  {
   "cell_type": "markdown",
   "id": "4a2fdb9f",
   "metadata": {},
   "source": [
    "\n",
    "## Objectifs\n",
    "Les objectifs de ce notebook sont les suivants :\n",
    "- Explorer différents langages et bibliothèques de la science des données.\n",
    "- Présenter divers outils utilisés en science des données.\n",
    "- Illustrer des exemples d'expressions arithmétiques et de calculs.\n",
    "- ...\n",
    "\n"
   ]
  },
  {
   "cell_type": "markdown",
   "id": "ad480e3c",
   "metadata": {},
   "source": [
    "\n",
    "## Auteur\n",
    "Réalisé par : Drissia Ennagoura\n",
    "\n"
   ]
  },
  {
   "cell_type": "code",
   "execution_count": null,
   "id": "f35d8e82",
   "metadata": {},
   "outputs": [],
   "source": []
  }
 ],
 "metadata": {
  "kernelspec": {
   "display_name": "Python 3 (ipykernel)",
   "language": "python",
   "name": "python3"
  },
  "language_info": {
   "codemirror_mode": {
    "name": "ipython",
    "version": 3
   },
   "file_extension": ".py",
   "mimetype": "text/x-python",
   "name": "python",
   "nbconvert_exporter": "python",
   "pygments_lexer": "ipython3",
   "version": "3.11.3"
  }
 },
 "nbformat": 4,
 "nbformat_minor": 5
}
